{
 "cells": [
  {
   "cell_type": "code",
   "execution_count": 1,
   "id": "d4593b30",
   "metadata": {},
   "outputs": [
    {
     "name": "stdout",
     "output_type": "stream",
     "text": [
      "Welcome to the mortgage calculator\n",
      "Enter the mortgage loan principal: $ 1000000\n",
      "Enter the annual interest rate: 5\n",
      "Enter the number of years to repay the mortgage: 20\n",
      "For a 20-year mortgage loan of $ 1,000,000.00:\n",
      "at an annual interest rate of 5.00%:\n",
      "you pay $ 6,599.56 monthly\n",
      "----------------------------------------\n",
      "Total amount paid will be $ 1,583,893.77\n",
      "Thank you for using the mortgage calculator!\n"
     ]
    }
   ],
   "source": [
    "# Display a welcome message to the user\n",
    "print(\"Welcome to the mortgage calculator\")\n",
    "\n",
    "# Request input for mortgage loan principal\n",
    "principal = float(input(\"Enter the mortgage loan principal: $ \"))\n",
    "\n",
    "# Request input for the annual interest rate\n",
    "interest_rate = float(input(\"Enter the annual interest rate: \"))\n",
    "\n",
    "# Request input for the number of years to repay the mortgage\n",
    "years = int(input(\"Enter the number of years to repay the mortgage: \"))\n",
    "\n",
    "# Calculate the monthly repayment \n",
    "monthly_repayment = principal * (interest_rate / 12 / 100 * (1 + interest_rate / 12 / 100)**(years * 12)) / ((1 + interest_rate / 12 / 100)**(years * 12) - 1)\n",
    "\n",
    "# Calculate the total amount paid over the life of the mortgage\n",
    "total_amount = monthly_repayment * years * 12\n",
    "\n",
    "# Display the mortgage information to the user\n",
    "print(f\"For a {years}-year mortgage loan of $ {principal:,.2f}:\")\n",
    "\n",
    "print(f\"at an annual interest rate of {interest_rate:.2f}%:\")\n",
    "\n",
    "print(f\"you pay $ {monthly_repayment:,.2f} monthly\")\n",
    "\n",
    "print(\"----------------------------------------\")\n",
    "\n",
    "print(f\"Total amount paid will be $ {total_amount:,.2f}\")\n",
    "\n",
    "# Display a thank you message to the user\n",
    "print(\"Thank you for using the mortgage calculator!\")"
   ]
  }
 ],
 "metadata": {
  "kernelspec": {
   "display_name": "Python 3 (ipykernel)",
   "language": "python",
   "name": "python3"
  },
  "language_info": {
   "codemirror_mode": {
    "name": "ipython",
    "version": 3
   },
   "file_extension": ".py",
   "mimetype": "text/x-python",
   "name": "python",
   "nbconvert_exporter": "python",
   "pygments_lexer": "ipython3",
   "version": "3.9.13"
  }
 },
 "nbformat": 4,
 "nbformat_minor": 5
}
